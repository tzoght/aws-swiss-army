{
 "cells": [
  {
   "cell_type": "markdown",
   "metadata": {},
   "source": [
    "**Imports**"
   ]
  },
  {
   "cell_type": "code",
   "execution_count": 4,
   "metadata": {
    "scrolled": false
   },
   "outputs": [
    {
     "name": "stdout",
     "output_type": "stream",
     "text": [
      "Defaulting to user installation because normal site-packages is not writeable\n",
      "Requirement already satisfied: pip in /Users/tonzoght/Library/Python/3.8/lib/python/site-packages (21.3.1)\n",
      "Defaulting to user installation because normal site-packages is not writeable\n",
      "Requirement already satisfied: boto3 in /Users/tonzoght/Library/Python/3.8/lib/python/site-packages (1.20.14)\n",
      "Requirement already satisfied: s3transfer<0.6.0,>=0.5.0 in /Users/tonzoght/Library/Python/3.8/lib/python/site-packages (from boto3) (0.5.0)\n",
      "Requirement already satisfied: jmespath<1.0.0,>=0.7.1 in /Users/tonzoght/Library/Python/3.8/lib/python/site-packages (from boto3) (0.10.0)\n",
      "Requirement already satisfied: botocore<1.24.0,>=1.23.14 in /Users/tonzoght/Library/Python/3.8/lib/python/site-packages (from boto3) (1.23.14)\n",
      "Requirement already satisfied: urllib3<1.27,>=1.25.4 in /Users/tonzoght/Library/Python/3.8/lib/python/site-packages (from botocore<1.24.0,>=1.23.14->boto3) (1.26.7)\n",
      "Requirement already satisfied: python-dateutil<3.0.0,>=2.1 in /Users/tonzoght/Library/Python/3.8/lib/python/site-packages (from botocore<1.24.0,>=1.23.14->boto3) (2.8.2)\n",
      "Requirement already satisfied: six>=1.5 in /Library/Developer/CommandLineTools/Library/Frameworks/Python3.framework/Versions/3.8/lib/python3.8/site-packages (from python-dateutil<3.0.0,>=2.1->botocore<1.24.0,>=1.23.14->boto3) (1.15.0)\n"
     ]
    }
   ],
   "source": [
    "import sys\n",
    "!{sys.executable} -m pip install --upgrade pip\n",
    "!{sys.executable} -m pip install boto3"
   ]
  },
  {
   "cell_type": "markdown",
   "metadata": {},
   "source": [
    "**Setup API Keys**\n",
    "\n",
    "You need 3 environment variables AWS_ACCESS_KEY_ID, AWS_SECRET_ACCESS_KEY and AWS_DEFAULT_REGION,\n",
    "if not setup already you can do that using the following inline env setup\n",
    "```\n",
    "%env AWS_DEFAULT_REGION=us-east-2\n",
    "%env AWS_ACCESS_KEY_ID=************\n",
    "%env AWS_SECRET_ACCESS_KEY=**************\n",
    "```"
   ]
  },
  {
   "cell_type": "code",
   "execution_count": 7,
   "metadata": {},
   "outputs": [
    {
     "name": "stdout",
     "output_type": "stream",
     "text": [
      "env: AWS_DEFAULT_REGION=us-east-1\n"
     ]
    }
   ],
   "source": [
    "%env AWS_DEFAULT_REGION=us-east-1"
   ]
  },
  {
   "cell_type": "code",
   "execution_count": 12,
   "metadata": {
    "pycharm": {
     "name": "#%%\n"
    }
   },
   "outputs": [
    {
     "name": "stdout",
     "output_type": "stream",
     "text": [
      "- On iteration 2 api returned  0 snapshots\n",
      "- On iteration 3 api returned  0 snapshots\n",
      "- On iteration 4 api returned  0 snapshots\n",
      "- On iteration 5 api returned  38 snapshots\n",
      "Total of 38 after 5 iterations\n"
     ]
    }
   ],
   "source": [
    "import boto3\n",
    "import pprint\n",
    "client = boto3.client('ec2')\n",
    "pp = pprint.PrettyPrinter(indent=4)\n",
    "\n",
    "# Parameters to change\n",
    "maxResults = 400\n",
    "volume_id = 'vol-02cb64f8bab75868c'\n",
    "response = client.describe_snapshots(\n",
    "    Filters=[{'Name': 'volume-id','Values': [volume_id]},],\n",
    "    MaxResults=maxResults)\n",
    "# pp.pprint(response)\n",
    "snapshots = response['Snapshots']\n",
    "nextToken = response['NextToken']\n",
    "iteration = 1\n",
    "\n",
    "while nextToken is not None:\n",
    "    response = client.describe_snapshots(\n",
    "    Filters=[{'Name': 'volume-id','Values': [volume_id]},],\n",
    "    MaxResults=maxResults,\n",
    "    NextToken=nextToken)\n",
    "    try:\n",
    "        nextToken = response['NextToken']\n",
    "    except KeyError as e:\n",
    "        nextToken = None\n",
    "    iteration += 1\n",
    "    print(\"- On iteration \" + str(iteration) + \" api returned  \" + str(len(response['Snapshots'])) + \" snapshots\" )\n",
    "    snapshots.extend(response['Snapshots'])\n",
    "    #pp.pprint(response['Snapshots'])\n",
    "\n",
    "print (\"Total of \" + str(len(snapshots)) + \" after \" + str(iteration) + \" iterations\" )\n",
    "\n",
    "\n"
   ]
  },
  {
   "cell_type": "code",
   "execution_count": null,
   "metadata": {},
   "outputs": [],
   "source": []
  }
 ],
 "metadata": {
  "kernelspec": {
   "display_name": "Python 3 (ipykernel)",
   "language": "python",
   "name": "python3"
  },
  "language_info": {
   "codemirror_mode": {
    "name": "ipython",
    "version": 3
   },
   "file_extension": ".py",
   "mimetype": "text/x-python",
   "name": "python",
   "nbconvert_exporter": "python",
   "pygments_lexer": "ipython3",
   "version": "3.8.2"
  }
 },
 "nbformat": 4,
 "nbformat_minor": 2
}

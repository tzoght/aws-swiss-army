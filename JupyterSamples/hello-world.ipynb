{
 "cells": [
  {
   "cell_type": "markdown",
   "metadata": {},
   "source": [
    "**Imports**"
   ]
  },
  {
   "cell_type": "code",
   "execution_count": 11,
   "metadata": {
    "scrolled": false
   },
   "outputs": [
    {
     "name": "stdout",
     "output_type": "stream",
     "text": [
      "Defaulting to user installation because normal site-packages is not writeable\n",
      "Requirement already satisfied: pip in /Users/tonzoght/Library/Python/3.8/lib/python/site-packages (21.3.1)\n",
      "Defaulting to user installation because normal site-packages is not writeable\n",
      "Requirement already satisfied: boto3 in /Users/tonzoght/Library/Python/3.8/lib/python/site-packages (1.20.14)\n",
      "Requirement already satisfied: botocore<1.24.0,>=1.23.14 in /Users/tonzoght/Library/Python/3.8/lib/python/site-packages (from boto3) (1.23.14)\n",
      "Requirement already satisfied: s3transfer<0.6.0,>=0.5.0 in /Users/tonzoght/Library/Python/3.8/lib/python/site-packages (from boto3) (0.5.0)\n",
      "Requirement already satisfied: jmespath<1.0.0,>=0.7.1 in /Users/tonzoght/Library/Python/3.8/lib/python/site-packages (from boto3) (0.10.0)\n",
      "Requirement already satisfied: urllib3<1.27,>=1.25.4 in /Users/tonzoght/Library/Python/3.8/lib/python/site-packages (from botocore<1.24.0,>=1.23.14->boto3) (1.26.7)\n",
      "Requirement already satisfied: python-dateutil<3.0.0,>=2.1 in /Users/tonzoght/Library/Python/3.8/lib/python/site-packages (from botocore<1.24.0,>=1.23.14->boto3) (2.8.2)\n",
      "Requirement already satisfied: six>=1.5 in /Library/Developer/CommandLineTools/Library/Frameworks/Python3.framework/Versions/3.8/lib/python3.8/site-packages (from python-dateutil<3.0.0,>=2.1->botocore<1.24.0,>=1.23.14->boto3) (1.15.0)\n"
     ]
    }
   ],
   "source": [
    "import sys\n",
    "!{sys.executable} -m pip install --upgrade pip\n",
    "!{sys.executable} -m pip install boto3"
   ]
  },
  {
   "cell_type": "markdown",
   "metadata": {},
   "source": [
    "**Setup API Keys**\n",
    "\n",
    "You need 3 environment variables AWS_ACCESS_KEY_ID, AWS_SECRET_ACCESS_KEY and AWS_DEFAULT_REGION,\n",
    "if not setup already you can do that using the following inline env setup\n",
    "```\n",
    "%env AWS_DEFAULT_REGION=us-east-2\n",
    "%env AWS_ACCESS_KEY_ID=************\n",
    "%env AWS_SECRET_ACCESS_KEY=**************\n",
    "```"
   ]
  },
  {
   "cell_type": "code",
   "execution_count": 12,
   "metadata": {},
   "outputs": [
    {
     "name": "stdout",
     "output_type": "stream",
     "text": [
      "env: AWS_DEFAULT_REGION=us-east-1\n"
     ]
    }
   ],
   "source": [
    "%env AWS_DEFAULT_REGION=us-east-1"
   ]
  },
  {
   "cell_type": "code",
   "execution_count": 13,
   "metadata": {},
   "outputs": [
    {
     "name": "stdout",
     "output_type": "stream",
     "text": [
      "{   'BackupVaultList': [   {   'BackupVaultArn': 'arn:aws:backup:us-east-1:666010898875:backup-vault:CdkStackSampleAppBackupVault67988CFA',\n",
      "                               'BackupVaultName': 'CdkStackSampleAppBackupVault67988CFA',\n",
      "                               'CreationDate': datetime.datetime(2021, 6, 29, 16, 40, 41, 284000, tzinfo=tzlocal()),\n",
      "                               'CreatorRequestId': '4065c05a-7ca4-ece7-d4e4-d47acdc8756f',\n",
      "                               'EncryptionKeyArn': 'arn:aws:kms:us-east-1:666010898875:key/93fc734b-b5a3-4f01-8daa-830347982935',\n",
      "                               'Locked': False,\n",
      "                               'NumberOfRecoveryPoints': 0},\n",
      "                           {   'BackupVaultArn': 'arn:aws:backup:us-east-1:666010898875:backup-vault:Default',\n",
      "                               'BackupVaultName': 'Default',\n",
      "                               'CreationDate': datetime.datetime(2019, 10, 6, 16, 30, 46, 181000, tzinfo=tzlocal()),\n",
      "                               'CreatorRequestId': 'Default',\n",
      "                               'EncryptionKeyArn': 'arn:aws:kms:us-east-1:666010898875:key/93fc734b-b5a3-4f01-8daa-830347982935',\n",
      "                               'Locked': False,\n",
      "                               'NumberOfRecoveryPoints': 78}],\n",
      "    'ResponseMetadata': {   'HTTPHeaders': {   'connection': 'keep-alive',\n",
      "                                               'content-length': '870',\n",
      "                                               'content-type': 'application/json',\n",
      "                                               'date': 'Mon, 29 Nov 2021 '\n",
      "                                                       '02:42:43 GMT',\n",
      "                                               'x-amzn-requestid': '25c8dfc0-e57e-40f1-9c19-416806bca193'},\n",
      "                            'HTTPStatusCode': 200,\n",
      "                            'RequestId': '25c8dfc0-e57e-40f1-9c19-416806bca193',\n",
      "                            'RetryAttempts': 0}}\n"
     ]
    }
   ],
   "source": [
    "import boto3\n",
    "import pprint\n",
    "client = boto3.client('backup')\n",
    "l = client.list_backup_vaults()\n",
    "pp = pprint.PrettyPrinter(indent=4)\n",
    "pp.pprint(l)"
   ]
  },
  {
   "cell_type": "code",
   "execution_count": null,
   "metadata": {},
   "outputs": [],
   "source": []
  }
 ],
 "metadata": {
  "kernelspec": {
   "display_name": "Python 3 (ipykernel)",
   "language": "python",
   "name": "python3"
  },
  "language_info": {
   "codemirror_mode": {
    "name": "ipython",
    "version": 3
   },
   "file_extension": ".py",
   "mimetype": "text/x-python",
   "name": "python",
   "nbconvert_exporter": "python",
   "pygments_lexer": "ipython3",
   "version": "3.8.2"
  }
 },
 "nbformat": 4,
 "nbformat_minor": 2
}